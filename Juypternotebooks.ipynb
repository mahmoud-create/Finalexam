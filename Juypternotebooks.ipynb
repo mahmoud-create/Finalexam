{
  "metadata": {
    "language_info": {
      "codemirror_mode": {
        "name": "python",
        "version": 3
      },
      "file_extension": ".py",
      "mimetype": "text/x-python",
      "name": "python",
      "nbconvert_exporter": "python",
      "pygments_lexer": "ipython3",
      "version": "3.8"
    },
    "kernelspec": {
      "name": "python",
      "display_name": "Pyolite",
      "language": "python"
    }
  },
  "nbformat_minor": 4,
  "nbformat": 4,
  "cells": [
    {
      "cell_type": "markdown",
      "source": "# My Juypter Notebook on IBM Watson studiio",
      "metadata": {}
    },
    {
      "cell_type": "markdown",
      "source": "**Wesonga Miraj** \nPsychologist",
      "metadata": {}
    },
    {
      "cell_type": "markdown",
      "source": "\n\n*iam interested in data science as it improves my fluid intelligences and challenges my mental capabilities*",
      "metadata": {}
    },
    {
      "cell_type": "markdown",
      "source": "### x = 10",
      "metadata": {}
    },
    {
      "cell_type": "code",
      "source": "print(\"the value of x is\", 10)",
      "metadata": {
        "trusted": true
      },
      "execution_count": 10,
      "outputs": [
        {
          "name": "stdout",
          "text": "the value of x is 10\n",
          "output_type": "stream"
        }
      ]
    },
    {
      "cell_type": "markdown",
      "source": "# numbered list\n1 parties\n   graduation parites\n2 ceremonies\n# bullets\n- parties\n- ceremonies\n# links\ni like [python](https:///python.org) its a great la\n",
      "metadata": {}
    },
    {
      "cell_type": "code",
      "source": "",
      "metadata": {},
      "execution_count": null,
      "outputs": []
    }
  ]
}